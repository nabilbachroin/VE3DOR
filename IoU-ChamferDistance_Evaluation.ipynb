{
 "cells": [
  {
   "cell_type": "code",
   "execution_count": 2,
   "metadata": {},
   "outputs": [
    {
     "name": "stdout",
     "output_type": "stream",
     "text": [
      "Jupyter environment detected. Enabling Open3D WebVisualizer.\n",
      "[Open3D INFO] WebRTC GUI backend enabled.\n",
      "[Open3D INFO] WebRTCWindowSystem: HTTP handshake server disabled.\n"
     ]
    },
    {
     "name": "stderr",
     "output_type": "stream",
     "text": [
      "2023-05-17 17:08:07.087415: I tensorflow/core/platform/cpu_feature_guard.cc:182] This TensorFlow binary is optimized to use available CPU instructions in performance-critical operations.\n",
      "To enable the following instructions: AVX2 FMA, in other operations, rebuild TensorFlow with the appropriate compiler flags.\n",
      "2023-05-17 17:08:08.156969: W tensorflow/compiler/tf2tensorrt/utils/py_utils.cc:38] TF-TRT Warning: Could not find TensorRT\n"
     ]
    }
   ],
   "source": [
    "#tes_data = \"nerfstudio\"\n",
    "tes_data = \"nerfmesh\"\n",
    "\n",
    "import trimesh\n",
    "import open3d as o3d\n",
    "import numpy as np\n",
    "import pyembree\n",
    "import tensorflow as tf"
   ]
  },
  {
   "cell_type": "code",
   "execution_count": 3,
   "metadata": {},
   "outputs": [
    {
     "name": "stdout",
     "output_type": "stream",
     "text": [
      "[]\n",
      "Test built: True\n"
     ]
    },
    {
     "name": "stderr",
     "output_type": "stream",
     "text": [
      "2023-05-17 17:08:09.148204: W tensorflow/core/common_runtime/gpu/gpu_device.cc:1956] Cannot dlopen some GPU libraries. Please make sure the missing libraries mentioned above are installed properly if you would like to use GPU. Follow the guide at https://www.tensorflow.org/install/gpu for how to download and setup the required libraries for your platform.\n",
      "Skipping registering GPU devices...\n"
     ]
    }
   ],
   "source": [
    "gpus = tf.config.experimental.list_physical_devices('GPU')\n",
    "print(gpus)\n",
    "for gpu in gpus:\n",
    "    tf.config.experimental.set_memory_growth(gpu, True)\n",
    "if gpus:\n",
    "    tf.config.set_visible_devices(gpus[0], 'GPU')\n",
    "\n",
    "print(\"Test built: {}\".format(tf.test.is_built_with_cuda()))"
   ]
  },
  {
   "cell_type": "code",
   "execution_count": 4,
   "metadata": {},
   "outputs": [
    {
     "name": "stdout",
     "output_type": "stream",
     "text": [
      "/home/nabil/WorkingFile/VE3DOR/lego_v0.obj\n"
     ]
    }
   ],
   "source": [
    "# Load the ground truth and reconstructed meshes\n",
    "ground_truth_file = '/home/nabil/WorkingFile/VE3DOR/ImageToStl.com_percobaan_kelima.obj'\n",
    "if tes_data == \"nerfstudio\":\n",
    "    reconstructed_file = '/home/nabil/WorkingFile/VE3DOR/nerfstudio_tsdf_mesh.ply'\n",
    "elif tes_data == \"nerfmesh\":\n",
    "    reconstructed_file = '/home/nabil/WorkingFile/VE3DOR/lego_v0.obj'\n",
    "print(reconstructed_file)"
   ]
  },
  {
   "cell_type": "code",
   "execution_count": 8,
   "metadata": {},
   "outputs": [],
   "source": [
    "def load_mesh(file_path):\n",
    "    return trimesh.load_mesh(file_path)\n",
    "\n",
    "def convert_trimesh_to_o3d(mesh):\n",
    "    o3d_mesh = o3d.geometry.TriangleMesh()\n",
    "    o3d_mesh.vertices = o3d.utility.Vector3dVector(mesh.vertices)\n",
    "    o3d_mesh.triangles = o3d.utility.Vector3iVector(mesh.faces)\n",
    "    return o3d_mesh"
   ]
  },
  {
   "cell_type": "code",
   "execution_count": 9,
   "metadata": {},
   "outputs": [],
   "source": [
    "def compute_iou(mesh1, mesh2):\n",
    "    mesh1_volume = mesh1.volume\n",
    "    mesh2_volume = mesh2.volume\n",
    "    #intersection_mesh = mesh1.intersection(mesh2)\n",
    "    #intersection_mesh = mesh1.intersection(mesh2, engine='meshfix')\n",
    "    intersection_mesh = mesh1.intersection(mesh2, engine='blender')\n",
    "    intersection_volume = intersection_mesh.volume\n",
    "    union_volume = mesh1_volume + mesh2_volume - intersection_volume\n",
    "    return intersection_volume / union_volume"
   ]
  },
  {
   "cell_type": "code",
   "execution_count": 10,
   "metadata": {},
   "outputs": [],
   "source": [
    "#def compute_chamfer_distance(pcd1, pcd2):\n",
    "#    dist1 = o3d.pipelines.registration.compute_point_cloud_to_point_cloud_distance(pcd1, pcd2)\n",
    "#    dist2 = o3d.pipelines.registration.compute_point_cloud_to_point_cloud_distance(pcd2, pcd1)\n",
    "#    return np.mean(dist1) + np.mean(dist2)\n",
    "\n",
    "\n",
    "def compute_chamfer_distance(pcd1, pcd2):\n",
    "    dist1 = pcd1.compute_point_cloud_distance(pcd2)\n",
    "    dist2 = pcd2.compute_point_cloud_distance(pcd1)\n",
    "    return np.mean(dist1) + np.mean(dist2)\n"
   ]
  },
  {
   "cell_type": "code",
   "execution_count": 11,
   "metadata": {},
   "outputs": [],
   "source": [
    "#def compute_f1_score(pcd1, pcd2, threshold):\n",
    "#    dist1 = o3d.pipelines.registration.compute_point_cloud_to_point_cloud_distance(pcd1, pcd2)\n",
    "#    dist2 = o3d.pipelines.registration.compute_point_cloud_to_point_cloud_distance(pcd2, pcd1)\n",
    "#\n",
    "#    precision = np.sum(np.array(dist1) < threshold) / len(dist1)\n",
    "#    recall = np.sum(np.array(dist2) < threshold) / len(dist2)\n",
    "#\n",
    "#    f1_score = 2 * (precision * recall) / (precision + recall)\n",
    "#    return f1_score\n",
    "\n",
    "def compute_f1_score(pcd1, pcd2, threshold):\n",
    "    dist1 = pcd1.compute_point_cloud_distance(pcd2)\n",
    "    dist2 = pcd2.compute_point_cloud_distance(pcd1)\n",
    "\n",
    "    precision = np.sum(np.array(dist1) < threshold) / len(dist1)\n",
    "    recall = np.sum(np.array(dist2) < threshold) / len(dist2)\n",
    "\n",
    "    f1_score = 2 * (precision * recall) / (precision + recall)\n",
    "    return f1_score\n"
   ]
  },
  {
   "cell_type": "code",
   "execution_count": 12,
   "metadata": {},
   "outputs": [],
   "source": [
    "def visualize_meshes(meshes):\n",
    "    vis = o3d.visualization.Visualizer()\n",
    "    vis.create_window()\n",
    "\n",
    "    for mesh in meshes:\n",
    "        vis.add_geometry(mesh)\n",
    "\n",
    "    vis.run()\n",
    "    vis.destroy_window()"
   ]
  },
  {
   "cell_type": "code",
   "execution_count": 13,
   "metadata": {},
   "outputs": [],
   "source": [
    "ground_truth_trimesh = load_mesh(ground_truth_file)\n",
    "reconstructed_trimesh = load_mesh(reconstructed_file)\n",
    "\n",
    "ground_truth_o3d = convert_trimesh_to_o3d(ground_truth_trimesh)\n",
    "reconstructed_o3d = convert_trimesh_to_o3d(reconstructed_trimesh)"
   ]
  },
  {
   "cell_type": "code",
   "execution_count": 14,
   "metadata": {},
   "outputs": [],
   "source": [
    "ground_truth_pcd = ground_truth_o3d.sample_points_uniformly(number_of_points=10000)\n",
    "reconstructed_pcd = reconstructed_o3d.sample_points_uniformly(number_of_points=10000)"
   ]
  },
  {
   "cell_type": "code",
   "execution_count": 14,
   "metadata": {},
   "outputs": [
    {
     "name": "stdout",
     "output_type": "stream",
     "text": [
      "Chamfer Distance: 0.0508463504107657\n"
     ]
    }
   ],
   "source": [
    "# Compute Chamfer Distance\n",
    "chamfer_distance = compute_chamfer_distance(ground_truth_pcd, reconstructed_pcd)\n",
    "print(f'Chamfer Distance: {chamfer_distance}')"
   ]
  },
  {
   "cell_type": "code",
   "execution_count": 11,
   "metadata": {},
   "outputs": [
    {
     "name": "stdout",
     "output_type": "stream",
     "text": [
      "IoU: 0.17993334449135368\n"
     ]
    }
   ],
   "source": [
    "# Compute IoU\n",
    "iou = compute_iou(ground_truth_trimesh, reconstructed_trimesh)\n",
    "print(f'IoU: {iou}')"
   ]
  },
  {
   "cell_type": "code",
   "execution_count": 16,
   "metadata": {},
   "outputs": [
    {
     "name": "stdout",
     "output_type": "stream",
     "text": [
      "F1 Score: 0.054747762557077626\n"
     ]
    }
   ],
   "source": [
    "# Compute F1 Score\n",
    "threshold = 0.01  # Define your own threshold based on the scale of your meshes\n",
    "f1_score = compute_f1_score(ground_truth_pcd, reconstructed_pcd, threshold)\n",
    "print(f'F1 Score: {f1_score}')"
   ]
  },
  {
   "cell_type": "code",
   "execution_count": 15,
   "metadata": {},
   "outputs": [
    {
     "name": "stdout",
     "output_type": "stream",
     "text": [
      "Hausdorff Distance: 0.0997581855875862\n"
     ]
    }
   ],
   "source": [
    "# def compute_hausdorff_distance(pcd1, pcd2):\n",
    "#     return o3d.geometry.PointCloud.compute_hausdorff_distance(pcd1, pcd2)\n",
    "\n",
    "from scipy.spatial.distance import directed_hausdorff\n",
    "\n",
    "def compute_hausdorff_distance(pcd1, pcd2):\n",
    "    # Convert Open3D.o3d.geometry.PointCloud to numpy array\n",
    "    points1 = np.asarray(pcd1.points)\n",
    "    points2 = np.asarray(pcd2.points)\n",
    "\n",
    "    # Compute Hausdorff distance\n",
    "    hausdorff_distance = max(directed_hausdorff(points1, points2)[0],\n",
    "                             directed_hausdorff(points2, points1)[0])\n",
    "    return hausdorff_distance\n",
    "\n",
    "\"\"\"\n",
    "In this code, directed_hausdorff computes the directed Hausdorff distance, which is not symmetric. \n",
    "To get the true Hausdorff distance, we compute it in both directions and take the maximum.\n",
    "\"\"\"\n",
    "\n",
    "# Compute Hausdorff Distance\n",
    "hausdorff_distance = compute_hausdorff_distance(ground_truth_pcd, reconstructed_pcd)\n",
    "print(f'Hausdorff Distance: {hausdorff_distance}')\n"
   ]
  },
  {
   "cell_type": "code",
   "execution_count": null,
   "metadata": {},
   "outputs": [
    {
     "ename": "",
     "evalue": "",
     "output_type": "error",
     "traceback": [
      "\u001b[1;31mCanceled future for execute_request message before replies were done"
     ]
    },
    {
     "ename": "",
     "evalue": "",
     "output_type": "error",
     "traceback": [
      "\u001b[1;31mThe Kernel crashed while executing code in the the current cell or a previous cell. Please review the code in the cell(s) to identify a possible cause of the failure. Click <a href='https://aka.ms/vscodeJupyterKernelCrash'>here</a> for more info. View Jupyter <a href='command:jupyter.viewOutput'>log</a> for further details."
     ]
    }
   ],
   "source": [
    "# # Visualize the meshes\n",
    "visualize_meshes([ground_truth_o3d, reconstructed_o3d])"
   ]
  }
 ],
 "metadata": {
  "kernelspec": {
   "display_name": "ve3dor",
   "language": "python",
   "name": "ve3dor"
  },
  "language_info": {
   "codemirror_mode": {
    "name": "ipython",
    "version": 3
   },
   "file_extension": ".py",
   "mimetype": "text/x-python",
   "name": "python",
   "nbconvert_exporter": "python",
   "pygments_lexer": "ipython3",
   "version": "3.8.16"
  },
  "orig_nbformat": 4
 },
 "nbformat": 4,
 "nbformat_minor": 2
}
